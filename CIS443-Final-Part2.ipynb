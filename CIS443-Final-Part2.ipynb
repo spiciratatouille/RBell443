{
 "cells": [
  {
   "cell_type": "markdown",
   "metadata": {},
   "source": [
    "# CIS 443 Final Exam, Part 2 Notebook\n",
    "## 50 pts.\n",
    "## Directions\n",
    "1. Add your Grading ID below.\n",
    "1. Answer each question in the cells provided.\n",
    "1. When finished, save your work, close the Jupyter Lab file, and Shut Down Jupyter Lab. You will upload this Jupyter Notebook file as your submission to Question 1 in Final Exam, Part 2 in Blackboard. If you leave Blackboard open too long while working in the Jupyter Notebook, you may have to log back into Blackboard before your file can be attached. If you receive an error when attempting to attach the Jupyter Notebook file for your answer, this is likely the reason.\n",
    "1. Be sure to keep an unaltered version of this file just in case anything goes wrong in Blackboard.\n",
    "\n",
    "__Grading ID__: P5279 (double click the cell in Jupyter to edit)"
   ]
  },
  {
   "cell_type": "markdown",
   "metadata": {},
   "source": [
    "### Problem 1\n",
    "Write a Python code fragment in the code cell below that defines a function named `classify_hurricane` that accepts a hurricane's wind speed (an integer) as a parameter and prints its category on the Saffir-Simpson scale. The Saffir-Simpson Hurricane Scale classifies hurricanes into five categories numbered 1 through 5. Category 5 hurricanes have sustained winds of at least 157 miles per hour. The minimum sustained wind speeds for categories 4 through 1 are 130, 111, 96, and 74 miles per hour, respectively. Any storm with winds of less than 74 miles per hour is not a hurricane. Your function should output __Category X__ where __X__ is from 1-5 or __Not a hurricane__ if the wind speed passed is less than 74 miles per hour. Test the function with several wind speeds. Strive for code that is clear and efficient. (__8 pts.__)"
   ]
  },
  {
   "cell_type": "code",
   "execution_count": 7,
   "metadata": {},
   "outputs": [
    {
     "name": "stdout",
     "output_type": "stream",
     "text": [
      "What is the wind speed of the hurricane? 300\n",
      "Category 5\n"
     ]
    }
   ],
   "source": [
    "speed = int(input('What is the wind speed of the hurricane? '))\n",
    "\n",
    "def classify_hurricane(speed):\n",
    "    if speed >= 157:\n",
    "        print('Category 5')\n",
    "    elif speed < 157 and speed >= 130:\n",
    "        print('Category 4')\n",
    "    elif speed < 130 and speed >= 111:\n",
    "        print('Category 3')\n",
    "    elif speed < 111 and speed >= 96:\n",
    "        print('Category 2')\n",
    "    elif speed < 96 and speed >= 74:\n",
    "        print('Category 1')\n",
    "    else:\n",
    "        print('Not a hurricane')\n",
    "\n",
    "classify_hurricane(speed)"
   ]
  },
  {
   "cell_type": "markdown",
   "metadata": {},
   "source": [
    "### Problem 2\n",
    "Write a Python code fragment in the code cell below that prints every third number (each on a separate line) from 3 - 33 (inclusive), so 3, 6, 9, ..., 33. Use whichever loop you prefer. Strive for code that is clear and efficient. (__4 pts.__)"
   ]
  },
  {
   "cell_type": "code",
   "execution_count": 8,
   "metadata": {},
   "outputs": [
    {
     "name": "stdout",
     "output_type": "stream",
     "text": [
      "3\n",
      "6\n",
      "9\n",
      "12\n",
      "15\n",
      "18\n",
      "21\n",
      "24\n",
      "27\n",
      "30\n",
      "33\n"
     ]
    }
   ],
   "source": [
    "num = 3\n",
    "while num <= 33:\n",
    "    print(num)\n",
    "    num += 3"
   ]
  },
  {
   "cell_type": "markdown",
   "metadata": {},
   "source": [
    "### Problem 3\n",
    "Write a Python code fragment in the code cell below that implements a simple substitution cipher known as `rot13`. This cipher encrypts a message by rotating the plaintext character by 13 positions in the alphabet.  For example, 'a' becomes 'n' and likewise 'n' becomes 'a'. The nice thing about `rot13` is that the same function can be used to encrypt and decrypt a message. Write a function called `rot13` that takes a message as a parameter (a string) and rotates all the characters by 13 places returning the encrypted/decrypted string. Test with the string 'Hello There!', which should encode as 'uryyb gurer!'. The function should first transform the passed message to lowercase before attempting the rotation. Any character that is not a letter should not be rotated at all (preserving spaces and other punctuation). Strive for code that is clear and efficient. (__8 pts.__)\n",
    "\n",
    "__Hint__: You may find it helpful to define a variable like: `alphabet = 'abcdefghijklmnopqrstuvwxyz'`. You can use `ord` and `chr` to help or just use modulo arthimetic (such as `% 26`) to do it."
   ]
  },
  {
   "cell_type": "code",
   "execution_count": 37,
   "metadata": {},
   "outputs": [
    {
     "name": "stdout",
     "output_type": "stream",
     "text": [
      "Please enter a message to encrypt: Hello there!\n",
      "uryyb gurer!\n"
     ]
    }
   ],
   "source": [
    "sen = input('Please enter a message to encrypt: ')\n",
    "rot13(sen)\n",
    "\n",
    "def rot13(sen):\n",
    "    alpha = 'abcdefghijklmnopqrstuvwxyz'\n",
    "    new_sen = sen.lower()\n",
    "    encrypt = ''\n",
    "    \n",
    "    for char in new_sen:\n",
    "        if char.isalpha():\n",
    "            encrypt += alpha[(alpha.find(char)+13)%26]\n",
    "        else:\n",
    "            encrypt += char\n",
    "    \n",
    "    print(encrypt)"
   ]
  },
  {
   "cell_type": "markdown",
   "metadata": {},
   "source": [
    "### Problem 4\n",
    "Account numbers sometimes contain a check digit that is the result of a mathematical calculation. The inclusion of the digit in an account number helps ascertain whether the number is a valid one. Write Python code fragment in the code cell below that asks the user to enter a four-digit account number and determines whether it is a valid number. The number is valid if the fourth digit is the remainder when the number represented by the first three digits of the four-digit number is divided by 9. For example, 4566 is valid, because 6 is the remainder when 456 is divided by 9. Strive for code that is clear and efficient. (__8 pts.__)"
   ]
  },
  {
   "cell_type": "code",
   "execution_count": 39,
   "metadata": {},
   "outputs": [
    {
     "name": "stdout",
     "output_type": "stream",
     "text": [
      "Please enter an account number: 4566\n",
      "Account number is valid.\n"
     ]
    }
   ],
   "source": [
    "acc_num = input('Please enter an account number: ')\n",
    "num = int(acc_num)\n",
    "num_len = len(acc_num)\n",
    "\n",
    "\n",
    "if num_len == 4:\n",
    "    rem = num % 10\n",
    "    if (num // 10) % 9 == rem:\n",
    "        print('Account number is valid.')\n",
    "    else:\n",
    "        print('Account number is invalid!')\n",
    "else:\n",
    "    print('Account number is invalid!')"
   ]
  },
  {
   "cell_type": "markdown",
   "metadata": {},
   "source": [
    "### Problem 5\n",
    "Write a Python code fragment in the code cell below that inputs ten integer values representing student test scores and stores them in a list. Print a report that displays each of the values followed by a message that indicates how far it is from the average (mean) of the test scores (positive values show the test was above the average and negative values show the test was below the average) using an f-string with 2 digits of precision. Include the minimum score, the maximum score, and the average score at the bottom of the report. Strive for code that is clear and efficient. (__8 pts.__)"
   ]
  },
  {
   "cell_type": "code",
   "execution_count": 22,
   "metadata": {},
   "outputs": [
    {
     "name": "stdout",
     "output_type": "stream",
     "text": [
      "Please enter a test score: 99\n",
      "Please enter a test score: 88\n",
      "Please enter a test score: 99\n",
      "Please enter a test score: 67\n",
      "Please enter a test score: 56\n",
      "Please enter a test score: 89\n",
      "Please enter a test score: 88\n",
      "Please enter a test score: 77\n",
      "Please enter a test score: 100\n",
      "Please enter a test score: 58\n",
      "99   16.90\n",
      "88   5.90\n",
      "99   16.90\n",
      "67   -15.10\n",
      "56   -26.10\n",
      "89   6.90\n",
      "88   5.90\n",
      "77   -5.10\n",
      "100   17.90\n",
      "58   -24.10\n",
      "Average: 82.1\n",
      "Maximum: 100\n",
      "Minimum: 56\n"
     ]
    }
   ],
   "source": [
    "scores = []\n",
    "while len(scores) != 10:\n",
    "    next_score = int(input('Please enter a test score: '))\n",
    "    scores.append(next_score)\n",
    "    \n",
    "mean = sum(scores) / 10\n",
    "\n",
    "for num in scores:\n",
    "    print(f'{num}   {num - mean:.2f}')\n",
    "print(f'Average: {mean}')\n",
    "print(f'Maximum: {max(scores)}')\n",
    "print(f'Minimum: {min(scores)}')"
   ]
  },
  {
   "cell_type": "markdown",
   "metadata": {},
   "source": [
    "###### Problem 7\n",
    "Use an online thesaurus to look up synonyms for five English words of your choice and then write a Python code fragment in the code cell below to create a `synonyms` dictionary that maps those words to lists containing three synonyms for each word. Print a report that formats the dictionary’s contents with each word followed by an indented list of synonyms below it (one synonym per line). Strive for code that is clear and efficient. (__7 pts.__)"
   ]
  },
  {
   "cell_type": "code",
   "execution_count": 27,
   "metadata": {},
   "outputs": [
    {
     "name": "stdout",
     "output_type": "stream",
     "text": [
      "cold:\n",
      "\t chilly \n",
      "\t cool \n",
      "\t frigid\n",
      "dark:\n",
      "\t dim \n",
      "\t dingy \n",
      "\t gloomy\n",
      "fall:\n",
      "\t drop \n",
      "\t plummet \n",
      "\t descend\n",
      "jump:\n",
      "\t leap \n",
      "\t spring \n",
      "\t hop\n",
      "warm:\n",
      "\t hot \n",
      "\t balmy \n",
      "\t toasty\n"
     ]
    }
   ],
   "source": [
    "w1 = ['hot', 'balmy', 'toasty']\n",
    "w2 = ['chilly', 'cool', 'frigid']\n",
    "w3 = ['dim', 'dingy', 'gloomy']\n",
    "w4 = ['leap', 'spring', 'hop']\n",
    "w5 = ['drop', 'plummet', 'descend']\n",
    "\n",
    "synonyms = {'warm':w1, 'cold':w2, 'dark':w3, 'jump':w4, 'fall':w5}\n",
    "\n",
    "for key, value in sorted(synonyms.items()):\n",
    "    print(f'{key}:\\n\\t {value[0]} \\n\\t {value[1]} \\n\\t {value[2]}')"
   ]
  },
  {
   "cell_type": "markdown",
   "metadata": {},
   "source": [
    "### Problem 8\n",
    "Write a Python code fragment in the code cell below that creates a __TextBlob__ from the text of a restaurant review (from a yelp entry for a downtown Louisville restaurant) given below. Perform a _sentiment analysis_ of the entire review and then repeat for each sentence in the review. Use the default analyzer. Strive for code that is clear and efficient. (__7 pts.__)"
   ]
  },
  {
   "cell_type": "code",
   "execution_count": 33,
   "metadata": {},
   "outputs": [
    {
     "name": "stdout",
     "output_type": "stream",
     "text": [
      "Entire Review:\n",
      " Sentiment(polarity=0.4454545454545455, subjectivity=0.6606060606060606)\n",
      "Sentence 1 : \n",
      " Sentiment(polarity=0.525, subjectivity=0.675)\n",
      "Sentence 2 : \n",
      " Sentiment(polarity=0.75, subjectivity=0.75)\n",
      "Sentence 3 : \n",
      " Sentiment(polarity=0.7, subjectivity=0.825)\n",
      "Sentence 4 : \n",
      " Sentiment(polarity=0.0, subjectivity=0.0)\n",
      "Sentence 5 : \n",
      " Sentiment(polarity=0.7, subjectivity=0.8)\n",
      "Sentence 6 : \n",
      " Sentiment(polarity=1.0, subjectivity=1.0)\n",
      "Sentence 7 : \n",
      " Sentiment(polarity=0.0, subjectivity=0.0)\n",
      "Sentence 8 : \n",
      " Sentiment(polarity=0.0, subjectivity=1.0)\n",
      "Sentence 9 : \n",
      " Sentiment(polarity=0.0, subjectivity=0.0)\n",
      "Sentence 10 : \n",
      " Sentiment(polarity=0.0, subjectivity=0.6666666666666666)\n",
      "Sentence 11 : \n",
      " Sentiment(polarity=0.0, subjectivity=0.0)\n",
      "Sentence 12 : \n",
      " Sentiment(polarity=0.0, subjectivity=0.05)\n"
     ]
    }
   ],
   "source": [
    "from textblob import TextBlob\n",
    "review_text = '''A great spot in Louisville for an intimate date night! The service was impeccable. The wait staff was attentive and gave great recommendations on the menu!\n",
    "I ordered the limoncello martini prior to dinner and my boyfriend got The Godfather. I LOVED my drink. It was so delicious. For dinner we got the Caesar salad and the seafood pasta.\n",
    "The salad was massive and it was tasty! The seafood pasta was the star. I stole a couple bites from my boyfriend and was instantly jealous I didn't order it for myself. Get the seafood pasta when you visit!\n",
    "We opted to walk from our hotel for dinner, but there was plenty of street parking outside the restaurant!'''\n",
    "\n",
    "review = TextBlob(review_text)\n",
    "print('Entire Review:\\n',review.sentiment)\n",
    "\n",
    "for index,sen in enumerate(review.sentences):\n",
    "    print('Sentence',index+1,':','\\n',sen.sentiment)"
   ]
  }
 ],
 "metadata": {
  "kernelspec": {
   "display_name": "Python 3",
   "language": "python",
   "name": "python3"
  },
  "language_info": {
   "codemirror_mode": {
    "name": "ipython",
    "version": 3
   },
   "file_extension": ".py",
   "mimetype": "text/x-python",
   "name": "python",
   "nbconvert_exporter": "python",
   "pygments_lexer": "ipython3",
   "version": "3.8.5"
  }
 },
 "nbformat": 4,
 "nbformat_minor": 4
}
