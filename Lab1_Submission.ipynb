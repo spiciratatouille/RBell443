{
 "cells": [
  {
   "cell_type": "markdown",
   "metadata": {},
   "source": [
    "# CIS 443-01 - Analytics Programming\n",
    "## Lab 1\n",
    "__Grading ID__: P5279 (double click the cell in Jupyter to edit, find ID in Blackboard Gradebook)<br>\n",
    "__Due__: Sunday, January 24 (by 11:59 PM)<br />\n",
    "__Worth__: 25 pts."
   ]
  },
  {
   "cell_type": "markdown",
   "metadata": {},
   "source": [
    "### Directions\n",
    "In the code cell below, write Python code to accomplish the following using what you've learned through Chapter 2. Prompt the user to enter a whole dollar amount (from 1 - 99 for this application) to be withdrawn from our virtual ATM. Use the input gathering techniques demonstrated in Section 2.6 to gather this input. For the moment, you may assume that the user follows your directions for the input (namely, entering an integer between 1 and 99 inclusive). Calculate and print the number of bills of each denomination (twenties, tens, fives, and ones) that should be dispensed, minimizing the total number of bills used. Start with twenties and work your way down to ones. If no bills of a particular denomination are needed, skip that bill in the output using `if` statements as demonstrated in Section 2.7 of the text. (25 pts.)\n",
    "### Sample Output\n",
    "<div class=\"alert alert-block alert-info\">\n",
    "    Welcome to the CIS 443 Virtual ATM!<br />\n",
    "    Enter whole dollar amount (1 - 99): 94<br /><br />\n",
    "    Dispense:<br />\n",
    "    4 twenties<br />\n",
    "    1 tens<br />\n",
    "    4 ones<br />\n",
    "</div>\n",
    "An easy way to approach this problem is with the use of floor division (//) and remainder (%) operations."
   ]
  },
  {
   "cell_type": "code",
   "execution_count": 4,
   "metadata": {},
   "outputs": [
    {
     "name": "stdout",
     "output_type": "stream",
     "text": [
      "Welcome to the CIS 443 Virtual ATM\n"
     ]
    },
    {
     "name": "stdin",
     "output_type": "stream",
     "text": [
      "Enter whole dollar amount (1-99):  69\n"
     ]
    },
    {
     "name": "stdout",
     "output_type": "stream",
     "text": [
      "\n",
      "Dispense:\n",
      "3 twenties\n",
      "1 fives\n",
      "4 ones\n"
     ]
    }
   ],
   "source": [
    "print('Welcome to the CIS 443 Virtual ATM')\n",
    "\n",
    "money = int(input('Enter whole dollar amount (1-99): '))    # user entered amount\n",
    "\n",
    "twenties = money // 20    #represent denominations and the calculations to determine amount of each bill\n",
    "tens = (money % 20) // 10\n",
    "fives = (money % 10) // 5\n",
    "ones = (money % 5) // 1\n",
    "\n",
    "print('\\nDispense:')\n",
    "\n",
    "if twenties != 0:\n",
    "    print(f'{twenties} twenties')    # determines the output, if the result is zero then the bill type will not print\n",
    "if tens != 0:\n",
    "    print(f'{tens} tens')\n",
    "if fives != 0:\n",
    "    print(f'{fives} fives')\n",
    "if ones != 0:\n",
    "    print(f'{ones} ones')"
   ]
  },
  {
   "cell_type": "markdown",
   "metadata": {},
   "source": [
    "Be sure to save and exit your Jupyter Notebook and Shutdown Jupyter Lab (from the __File__ menu) before you submit your notebook on Blackboard for grading. Make sure you don't submit the empty starting notebook by accident."
   ]
  }
 ],
 "metadata": {
  "kernelspec": {
   "display_name": "Python 3",
   "language": "python",
   "name": "python3"
  },
  "language_info": {
   "codemirror_mode": {
    "name": "ipython",
    "version": 3
   },
   "file_extension": ".py",
   "mimetype": "text/x-python",
   "name": "python",
   "nbconvert_exporter": "python",
   "pygments_lexer": "ipython3",
   "version": "3.8.5"
  }
 },
 "nbformat": 4,
 "nbformat_minor": 4
}
