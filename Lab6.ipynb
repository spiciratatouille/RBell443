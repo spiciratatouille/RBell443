{
 "cells": [
  {
   "cell_type": "markdown",
   "metadata": {},
   "source": [
    "# CIS 443-75 - Analytics Programming\n",
    "## Lab 6\n",
    "__Grading ID__: P5279 (double click the cell in Jupyter to edit, find ID in Blackboard Gradebook)<br>\n",
    "__Due__: Sunday, March 7 (by 11:59 PM)<br />\n",
    "__Worth__: 25 pts."
   ]
  },
  {
   "cell_type": "markdown",
   "metadata": {},
   "source": [
    "### Directions\n",
    "Exercise 6.7, p. 235 (Character Counts) Recall that strings are sequences of characters. Use techniques similar to Fig. 6.2 to write a script that inputs a sentence from the user, then uses a dictionary to summarize the number of occurrences of each letter. Ignore case, ignore blanks and assume the user does not enter any punctuation. Display a two-column table of the letters and their counts with the letters in sorted order. Finally, use a set operation to determine which letters of the alphabet were not in the original string and print this result, as well. Test your source code and save your work before submission.<br>\n",
    "__Note__: This is basically last week's lab solved again using a dictionary and sets instead of lists and tuples."
   ]
  },
  {
   "cell_type": "code",
   "execution_count": 17,
   "metadata": {},
   "outputs": [
    {
     "name": "stdout",
     "output_type": "stream",
     "text": [
      "Please enter a string to analyze the letters: hello\n",
      "E :\t 1\n",
      "H :\t 1\n",
      "L :\t 2\n",
      "O :\t 1\n",
      "The following letters are not present: \n",
      " ['A', 'B', 'C', 'D', 'F', 'G', 'I', 'J', 'K', 'M', 'N', 'P', 'Q', 'R', 'S', 'T', 'U', 'V', 'W', 'X', 'Y', 'Z']\n"
     ]
    }
   ],
   "source": [
    "#function to count the letters in a string and provide their frequency and letters not present in string\n",
    "def count_letters():\n",
    "    alphabet = {'A','B','C','D','E','F','G','H','I','J','K','L','M','N','O','P','Q','R','S','T','U','V','W','X','Y','Z'}\n",
    "    characters = {}\n",
    "    \n",
    "    #prompt user for string and convert to uppercase\n",
    "    user_str = input('Please enter a string to analyze the letters: ')\n",
    "    sentence = user_str.upper()\n",
    "    \n",
    "    #step through every character to add it to the set and increase its counter\n",
    "    for char in sentence:\n",
    "        if(char in alphabet):\n",
    "            if char in characters:\n",
    "                characters[char] += 1\n",
    "            else:\n",
    "                characters[char] = 1\n",
    "\n",
    "    #determine if string contains all letters of alphabet        \n",
    "    for char in alphabet:\n",
    "        if char in characters:\n",
    "            flag = True\n",
    "        else:\n",
    "            flag = False\n",
    "    \n",
    "    #print letters and their corresponding counts\n",
    "    for key in sorted(characters.keys()):\n",
    "        print(key,':\\t', characters[key])\n",
    "    \n",
    "    #determine which letters are missing    \n",
    "    missing = sorted(alphabet.difference(characters))        \n",
    "    \n",
    "    #print message depending on if all letters are present or not\n",
    "    if flag == False:\n",
    "        print('The following letters are not present: \\n',missing)\n",
    "    if flag == True:\n",
    "        print('All letters are present.')\n",
    "\n",
    "#call function\n",
    "count_letters()"
   ]
  },
  {
   "cell_type": "markdown",
   "metadata": {},
   "source": [
    "Be sure to save and exit your Jupyter Notebook and Shutdown Jupyter Lab (from the __File__ menu) before you submit your notebook on Blackboard for grading. Make sure you don't submit the empty starting notebook by accident."
   ]
  }
 ],
 "metadata": {
  "kernelspec": {
   "display_name": "Python 3",
   "language": "python",
   "name": "python3"
  },
  "language_info": {
   "codemirror_mode": {
    "name": "ipython",
    "version": 3
   },
   "file_extension": ".py",
   "mimetype": "text/x-python",
   "name": "python",
   "nbconvert_exporter": "python",
   "pygments_lexer": "ipython3",
   "version": "3.8.5"
  }
 },
 "nbformat": 4,
 "nbformat_minor": 4
}
