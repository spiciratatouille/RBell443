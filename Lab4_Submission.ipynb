{
 "cells": [
  {
   "cell_type": "markdown",
   "metadata": {},
   "source": [
    "# CIS 443-75 - Analytics Programming\n",
    "## Lab 4\n",
    "__Grading ID__: P5279(double click the cell in Jupyter to edit)<br>\n",
    "__Due__: Sunday, February 14 (by 11:59 PM)<br />\n",
    "__Worth__: 25 pts."
   ]
  },
  {
   "cell_type": "markdown",
   "metadata": {},
   "source": [
    "### Directions\n",
    "In the code cell below, write Python code to accomplish the following using what you've learned through Chapter 4. Let's continue our exploration of Pi by creating a new estimate using Monte Carlo simulation. The approach will follow Example 1 from the following article:\n",
    "\n",
    "<a href=\"https://medium.com/cantors-paradise/estimating-%CF%80-using-monte-carlo-simulations-3459a84b5ef9\" target=\"_blank\">Estimating π using Monte Carlo simulations</a>\n",
    "\n",
    "This technique relies on simulation and random numbers to estimate the value of Pi essentially by throwing darts at a board inscribed with a circle and counting how many darts land inside the circle and how many land outside the circle. For everyone's safety, let's stick to a computer-based simulation! To simplify, we'll use the first quadrant unit square as suggested in the article.\n",
    "\n",
    "The approach will work as follows:\n",
    "1. For each dart thrown, generate its coordinates, _x_ and _y_, using a random uniform distribution from 0 - 1. The Python function __random.random__ will include the 0 endpoint but exclude the 1 endpoint. The Python function __random.uniform__ may include the 1 endpoint. See <a href=\"https://docs.python.org/3/library/random.html\" target=\"_blank\">Python documenation for random module</a> for more details.\n",
    "1. If the dart is inside the quarter-circle, count it. A dart is inside the quarter-circle if its distance from the origin (0, 0) is <= 1. You may use the simplified distance formula: $D = \\sqrt{x^2 + y^2}$\n",
    "1. After all the darts have been thrown and counted, Pi may be estimated as: $π = 4 \\cdot \\frac{NumDartsInsideCircle}{TotalNumDarts}$\n",
    "\n",
    "Write a function named __estimate_pi_mc__ that takes a single integer parameter, the number of darts to throw, and returns the estimate of Pi using this Monte Carlo simulation approach. Also include code that will prompt the user for the number of darts they wish to use in the estimate. Call your function with this value and display the estimate with 6 digits of precision. Use sentinel-control to repeat this process until the user enters a number of darts that is <= 0. (25 pts.)\n"
   ]
  },
  {
   "cell_type": "code",
   "execution_count": 3,
   "metadata": {},
   "outputs": [
    {
     "name": "stdin",
     "output_type": "stream",
     "text": [
      "How many darts would you like to throw?  15\n"
     ]
    },
    {
     "name": "stdout",
     "output_type": "stream",
     "text": [
      "2.933333\n"
     ]
    }
   ],
   "source": [
    "# Put Lab 4 Code Here\n",
    "#import python libraries for calculation\n",
    "import random as r\n",
    "import math as m\n",
    "\n",
    "#prompts user for input to determine how many darts to use in the\n",
    "darts = int(input(\"How many darts would you like to throw? \"))\n",
    "\n",
    "#create function to estimate pi using Monte Carlo simulation\n",
    "def estimate_pi_mc(darts):\n",
    "    inside = 0\n",
    "    for i in range(0,darts):\n",
    "        x = r.uniform(0,1)                #random variable for x\n",
    "        y = r.uniform(0,1)                #random variable for y\n",
    "        if m.sqrt(x**2 + y**2) <= 1.0:    #calculate distance\n",
    "            inside += 1\n",
    "    pi_est = 4 * (inside / darts)         #Monte Carlo calculation to estimate pi\n",
    "    return round(pi_est, 6)\n",
    "\n",
    "\n",
    "print(f'{estimate_pi_mc(darts)}')         #print estimated value for pi determined by user input\n",
    "\n",
    "        "
   ]
  },
  {
   "cell_type": "markdown",
   "metadata": {},
   "source": [
    "Be sure to save and exit your Jupyter Notebook and Shutdown Jupyter Lab (from the __File__ menu) before you submit your notebook on Blackboard for grading."
   ]
  },
  {
   "cell_type": "code",
   "execution_count": null,
   "metadata": {},
   "outputs": [],
   "source": []
  },
  {
   "cell_type": "code",
   "execution_count": null,
   "metadata": {},
   "outputs": [],
   "source": []
  }
 ],
 "metadata": {
  "kernelspec": {
   "display_name": "Python 3",
   "language": "python",
   "name": "python3"
  },
  "language_info": {
   "codemirror_mode": {
    "name": "ipython",
    "version": 3
   },
   "file_extension": ".py",
   "mimetype": "text/x-python",
   "name": "python",
   "nbconvert_exporter": "python",
   "pygments_lexer": "ipython3",
   "version": "3.8.5"
  }
 },
 "nbformat": 4,
 "nbformat_minor": 4
}
