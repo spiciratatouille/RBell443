{
 "cells": [
  {
   "cell_type": "markdown",
   "metadata": {},
   "source": [
    "# CIS 443 Exam 1, Part 2 Notebook\n",
    "## 35 pts.\n",
    "## Directions\n",
    "1. Add your Grading ID below.\n",
    "1. Answer each question in the cells provided.\n",
    "1. When finished, save your work, close the Jupyter Lab file, and Shut Down Jupyter Lab. You will upload this Jupyter Notebook file as your submission to Question 1 in Exam 1, Part 2 in Blackboard.\n",
    "1. Be sure to keep an unaltered version of this file just in case anything goes wrong in Blackboard.\n",
    "\n",
    "__Grading ID__: P5279 (double click the cell in Jupyter to edit)"
   ]
  },
  {
   "cell_type": "markdown",
   "metadata": {},
   "source": [
    "### Problem 1\n",
    "Write a Python code fragment in the code cell below that defines a function named `calc_qual_pts` that accepts a letter grade (a string) as a parameter and returns the GPA quality points, as specified below. If the grade is not one of the standard letter grades (A, B, C, D, F), return -1 to indicate this. Test the function with grades of \"A\", \"C\", and \"X\". (__8 pts.__)\n",
    "\n",
    "| Grade | Quality Points |\n",
    "| ----- | -------------- |\n",
    "| A     | 4.0            |\n",
    "| B     | 3.0            |\n",
    "| C     | 2.0            |\n",
    "| D     | 1.0            |\n",
    "| F     | 0.0            |\n",
    "| Otherwise | -1         |"
   ]
  },
  {
   "cell_type": "code",
   "execution_count": 6,
   "metadata": {},
   "outputs": [
    {
     "name": "stdin",
     "output_type": "stream",
     "text": [
      "What letter grade would you like to enter?  x\n"
     ]
    },
    {
     "name": "stdout",
     "output_type": "stream",
     "text": [
      "-1\n"
     ]
    }
   ],
   "source": [
    "letter = input('What letter grade would you like to enter? ')\n",
    "\n",
    "letter = letter.upper()\n",
    "\n",
    "def calc_qual_pts(letter):\n",
    "    points = -1\n",
    "    if letter == 'A':\n",
    "        points = 4.0\n",
    "    elif letter == 'B':\n",
    "        points = 3.0\n",
    "    elif letter == 'C':\n",
    "        points = 2.0\n",
    "    elif letter == 'D':\n",
    "        points = 1.0\n",
    "    elif letter == 'F':\n",
    "        points = 0.0\n",
    "    return points\n",
    "points = calc_qual_pts(letter)    \n",
    "print(points)       \n"
   ]
  },
  {
   "cell_type": "markdown",
   "metadata": {},
   "source": [
    "### Problem 2\n",
    "Write a Python code fragment in the code cell below that prints the odd numbers (each on a separate line) from 1 - 29 (inclusive). Use whichever loop you prefer. (__4 pts.__)"
   ]
  },
  {
   "cell_type": "code",
   "execution_count": 7,
   "metadata": {},
   "outputs": [
    {
     "name": "stdout",
     "output_type": "stream",
     "text": [
      "1\n",
      "3\n",
      "5\n",
      "7\n",
      "9\n",
      "11\n",
      "13\n",
      "15\n",
      "17\n",
      "19\n",
      "21\n",
      "23\n",
      "25\n",
      "27\n",
      "29\n"
     ]
    }
   ],
   "source": [
    "i = 1\n",
    "while i <= 29:\n",
    "    print(i)\n",
    "    i += 2\n"
   ]
  },
  {
   "cell_type": "markdown",
   "metadata": {},
   "source": [
    "### Problem 3\n",
    "Write a Python code fragment in the code cell below that inputs the year a car was manufactured (an integer) and outputs likely car safety features using a series of `if` statements. Allow the user to continue to enter car years until they enter a year less than 1885 (when the first car is thought to have been invented). If car's year is 1969 or earlier, print \"Few safety features.\" If 1970 or later, print \"Probably has seat belts.\" If 1990 or later, print \"Probably has antilock brakes.\" If 2000 or later, print \"Probably has airbags.\" End each phrase with a period and a newline. (__7 pts.__)\n",
    "\n",
    "Sample output for input: 1995\n",
    "\n",
    "`Probably has seat belts.`<br />\n",
    "`Probably has antilock brakes.`"
   ]
  },
  {
   "cell_type": "code",
   "execution_count": 2,
   "metadata": {},
   "outputs": [
    {
     "name": "stdout",
     "output_type": "stream",
     "text": [
      "What year was this car made? (Less than 1885 to end.) 1920\n",
      "Few safety features.\n",
      "\n",
      "What year was this car made? (Less than 1885 to end.) 2000\n",
      "Probably has seat belts.\n",
      "Probably has antilock brakes.\n",
      "Probably has airbags.\n",
      "\n",
      "What year was this car made? (Less than 1885 to end.) 2020\n",
      "Probably has seat belts.\n",
      "Probably has antilock brakes.\n",
      "Probably has airbags.\n",
      "\n",
      "What year was this car made? (Less than 1885 to end.) 1884\n"
     ]
    }
   ],
   "source": [
    "a = 'Few safety features.\\n'\n",
    "b = 'Probably has seat belts.\\n'\n",
    "c = 'Probably has antilock brakes.\\n'\n",
    "d = 'Probably has airbags.\\n'\n",
    "\n",
    "def safety(year):\n",
    "    if year >= 1885 and year < 1970:\n",
    "        print(f'{a}')\n",
    "    elif year >= 1970 and year < 1990:\n",
    "        print(f'{b}') \n",
    "    elif year >= 1990 and year < 2000:\n",
    "        print(f'{b}{c}')\n",
    "    elif year >= 2000:\n",
    "        print(f'{b}{c}{d}')\n",
    "\n",
    "year = int(input('What year was this car made? (Less than 1885 to end.) '))\n",
    "        \n",
    "while year >= 1885:\n",
    "    safety(year)\n",
    "    year = int(input('What year was this car made? (Less than 1885 to end.) '))"
   ]
  },
  {
   "cell_type": "markdown",
   "metadata": {},
   "source": [
    "### Problem 4\n",
    "Write a Python code fragment in the code cell below that defines a function named `factorial` that takes a non-negative integer as a parameter and returns the factorial of that number. Solve this by using a __for__ loop. This is an example of the accumulator pattern with a running product. Test your function with 0! (answer is 1) and 5! (answer is 120). You may assume that the parameter is a non-negative integer without testing for this. (__8 pts.__)\n",
    "\n",
    "Remember: n! = (1)x(2)x(3)x ... x(n-1)x(n)"
   ]
  },
  {
   "cell_type": "code",
   "execution_count": 10,
   "metadata": {},
   "outputs": [
    {
     "name": "stdout",
     "output_type": "stream",
     "text": [
      "Please enter a number to calculate its factorial: 4\n",
      "24\n"
     ]
    }
   ],
   "source": [
    "num = int(input('Please enter a number to calculate its factorial: '))\n",
    "\n",
    "def factorial(num):\n",
    "    out = 1\n",
    "    for i in range(1,num+1):\n",
    "        out = out * i\n",
    "    return out\n",
    "\n",
    "print(factorial(num))\n",
    "        "
   ]
  },
  {
   "cell_type": "markdown",
   "metadata": {},
   "source": [
    "### Problem 5\n",
    "Write a Python code fragment in the code cell below that uses a loop to input 5 weights (float values) and store them in a list. Output the list (on one line) followed by the minimum weight, maximum weight, and average (mean) weight each on a separate line. Format the minimum, maximum, and average weights using an f-string with 2 digits of precision. (__8 pts.__)"
   ]
  },
  {
   "cell_type": "code",
   "execution_count": 20,
   "metadata": {},
   "outputs": [
    {
     "name": "stdout",
     "output_type": "stream",
     "text": [
      "Please enter a weight: 1\n",
      "Please enter another weight: 2\n",
      "Please enter another weight: 3\n",
      "Please enter another weight: 4\n",
      "Please enter another weight: 5\n",
      "The weights are: [1.0, 2.0, 3.0, 4.0, 5.0]\n",
      "The minimum weight is: 1.00\n",
      "The maximum weight is: 5.00\n",
      "The average weight is: 3.00\n"
     ]
    }
   ],
   "source": [
    "weights = []\n",
    "weights.append(float(input('Please enter a weight: ')))\n",
    "\n",
    "while len(weights) != 5:\n",
    "    weights.append(float(input('Please enter another weight: ')))\n",
    "mean = sum(weights) / len(weights)\n",
    "    \n",
    "print('The weights are:',weights)\n",
    "print(f'The minimum weight is: {min(weights):>.2f}')\n",
    "print(f'The maximum weight is: {max(weights):>.2f}')\n",
    "print(f'The average weight is: {mean:>.2f}')"
   ]
  }
 ],
 "metadata": {
  "kernelspec": {
   "display_name": "Python 3",
   "language": "python",
   "name": "python3"
  },
  "language_info": {
   "codemirror_mode": {
    "name": "ipython",
    "version": 3
   },
   "file_extension": ".py",
   "mimetype": "text/x-python",
   "name": "python",
   "nbconvert_exporter": "python",
   "pygments_lexer": "ipython3",
   "version": "3.8.5"
  }
 },
 "nbformat": 4,
 "nbformat_minor": 4
}
