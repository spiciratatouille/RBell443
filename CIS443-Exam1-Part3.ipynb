{
 "cells": [
  {
   "cell_type": "markdown",
   "metadata": {},
   "source": [
    "# CIS 443 Exam 1, Part 3 Notebook\n",
    "## 15 pts.\n",
    "## Directions\n",
    "1. Add your Grading ID below.\n",
    "1. Answer the question in the cell provided.\n",
    "1. When finished, save your work, close the Jupyter Lab file, and Shut Down Jupyter Lab. You will upload this Jupyter Notebook file as your submission for Exam 1, Part 3 in Blackboard.\n",
    "1. Be sure to keep an unaltered version of this file just in case anything goes wrong in Blackboard.\n",
    "\n",
    "__Grading ID__: P5279 (double click the cell in Jupyter to edit)"
   ]
  },
  {
   "cell_type": "markdown",
   "metadata": {},
   "source": [
    "Write a Python code fragment in the code cell below that defines a function named `play_guess_number` that plays “guess the number” game. The function will choose the number to be guessed by selecting a random integer in the range 1 to 1000. Do not reveal this number to the user. Display the prompt \"Guess my number between 1 and 1000 with the fewest guesses:\". The player inputs a first guess. If the guess is incorrect, display \"Too high. Try again.\" or \"Too low. Try again.\" as appropriate to help the player “zero in” on the correct answer, then prompt the user for the next guess. When the user enters the correct answer, display \"Congratulations. You guessed the number!\" Test your game function by putting it in a while loop that will prompt the user to \"Play again (y/n)?\" Continue playing guess the number games as long as the user enters \"y\" or \"Y\" in response. (15 pts.)\n",
    "\n",
    "__Extra Credit__<br />\n",
    "Modify the function to count the number of guesses the player makes. If the number is 10 or fewer, display \"Either you know the secret or you got lucky!\" If the player makes more than 10 guesses, display \"You should be able to do better!\" (5 pts. Extra Credit)"
   ]
  },
  {
   "cell_type": "code",
   "execution_count": 39,
   "metadata": {},
   "outputs": [
    {
     "name": "stdout",
     "output_type": "stream",
     "text": [
      "Guess my number between 1-1000 with the fewest guesses: 100\n",
      "Too low! Try again: 200\n",
      "Too low! Try again: 300\n",
      "Too low! Try again: 400\n",
      "Too high! Try again: 350\n",
      "Too low! Try again: 360\n",
      "Too low! Try again: 370\n",
      "Too high! Try again: 361\n",
      "Too low! Try again: 362\n",
      "Either you know the secret or you got lucky!\n",
      "Would you like to play again? (y/n): n\n",
      "Thank you for playing! Goodbye!\n"
     ]
    }
   ],
   "source": [
    "#import random from python library\n",
    "import random as r\n",
    "\n",
    "#define the function to play the game\n",
    "def play_guess_number():\n",
    "#gather user inputted guess, set target, and set guess counter    \n",
    "    guess_count = 0\n",
    "    target = r.randint(1,1000)\n",
    "    guess = int(input('Guess my number between 1-1000 with the fewest guesses: '))\n",
    "#loop to indicate if guess was high or low\n",
    "    while guess!= target:\n",
    "        if guess < target:\n",
    "            guess_count += 1\n",
    "            guess = int(input('Too low! Try again: '))\n",
    "        if guess > target:\n",
    "            guess_count += 1\n",
    "            guess = int(input('Too high! Try again: '))\n",
    "#message depending on number of guesses needed to win    \n",
    "    if guess_count <= 10:\n",
    "        print('Either you know the secret or you got lucky!')\n",
    "    if guess_count > 10:\n",
    "        print('You should be able to do better!')\n",
    "\n",
    "#initialize the function        \n",
    "play_guess_number()\n",
    "#prompt user to play again\n",
    "again = input('Would you like to play again? (y/n): ')\n",
    "again = again.upper()\n",
    "#loop to continue playing or stop, based on user answer\n",
    "while again != 'N':\n",
    "    play_guess_number()\n",
    "    print('Congratulations! You guessed the number!')\n",
    "    again = input('Would you like to play again? (y/n): ')\n",
    "    again = again.upper()\n",
    "#thank the user for playing\n",
    "else:\n",
    "    print('Thank you for playing! Goodbye!')"
   ]
  },
  {
   "cell_type": "markdown",
   "metadata": {},
   "source": [
    "1# "
   ]
  },
  {
   "cell_type": "code",
   "execution_count": null,
   "metadata": {},
   "outputs": [],
   "source": []
  }
 ],
 "metadata": {
  "kernelspec": {
   "display_name": "Python 3",
   "language": "python",
   "name": "python3"
  }
 },
 "nbformat": 4,
 "nbformat_minor": 4
}
