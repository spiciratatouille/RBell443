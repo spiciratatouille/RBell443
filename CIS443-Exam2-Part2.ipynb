{
 "cells": [
  {
   "cell_type": "markdown",
   "metadata": {},
   "source": [
    "# CIS 443 Exam 2, Part 2 Notebook\n",
    "## 35 pts.\n",
    "## Directions\n",
    "1. Add your Grading ID below.\n",
    "1. Answer each question in the cells provided.\n",
    "1. When finished, save your work, close the Jupyter Lab file, and Shut Down Jupyter Lab. You will upload this Jupyter Notebook file as your submission to Question 1 in Exam 2, Part 2 in Blackboard.\n",
    "1. Be sure to keep an unaltered version of this file just in case anything goes wrong in Blackboard.\n",
    "\n",
    "__Grading ID__: P5279 (double click the cell in Jupyter to edit)"
   ]
  },
  {
   "cell_type": "markdown",
   "metadata": {},
   "source": [
    "### Problem 1\n",
    "Write a Python code fragment in the code cell below that reads a line of text, tokenizes the line using space characters as delimiters and outputs only those words beginning with the letter 'm'. Ignore the case of the words. (__5 pts.__)"
   ]
  },
  {
   "cell_type": "code",
   "execution_count": 4,
   "metadata": {},
   "outputs": [
    {
     "name": "stdout",
     "output_type": "stream",
     "text": [
      "Please enter a sentence: who told you that you could call me after midnight\n",
      "ME\n",
      "MIDNIGHT\n"
     ]
    }
   ],
   "source": [
    "text = input('Please enter a sentence: ')\n",
    "text = text.upper()\n",
    "tokens = text.split()\n",
    "for word in tokens:\n",
    "    if word.startswith('M'):\n",
    "        print(word)"
   ]
  },
  {
   "cell_type": "markdown",
   "metadata": {},
   "source": [
    "### Problem 2\n",
    "Write a Python code fragment in the code cell below that uses a _list comprehension_ to map the range of integers from 1 through 20 (inclusive) onto each value's triple (that is the value times 3) but filtered to only operate on the odd numbers in the range (producing the triple of 1, the triple of 3, etc.). (__5 pts.__)"
   ]
  },
  {
   "cell_type": "code",
   "execution_count": 11,
   "metadata": {},
   "outputs": [
    {
     "name": "stdout",
     "output_type": "stream",
     "text": [
      "[ 1  2  3  4  5  6  7  8  9 10 11 12 13 14 15 16 17 18 19 20]\n",
      "[3, 2, 9, 4, 15, 6, 21, 8, 27, 10, 33, 12, 39, 14, 45, 16, 51, 18, 57, 20]\n"
     ]
    }
   ],
   "source": [
    "import numpy as np\n",
    "numbers = np.arange(1,21)\n",
    "new_num = [x*3 if x % 2 != 0 else x for x in numbers]\n",
    "print(numbers)\n",
    "print(new_num)"
   ]
  },
  {
   "cell_type": "markdown",
   "metadata": {},
   "source": [
    "### Problem 3\n",
    "Write a Python code fragment in the code cell below that defines a function named `unique_words` that receives a list of words, then determines and displays in alphabetical order only the unique words. Treat uppercase and lowercase letters the same. The function should use a __set__ to get the unique words in the list. Test your function with several sentences. (__7 pts.__)"
   ]
  },
  {
   "cell_type": "code",
   "execution_count": 5,
   "metadata": {},
   "outputs": [
    {
     "name": "stdout",
     "output_type": "stream",
     "text": [
      "Please enter a list of words separated by a space: all of us Are Angry about Abbot\n",
      "['Abbot', 'about', 'all', 'Angry', 'Are', 'of', 'us']\n"
     ]
    }
   ],
   "source": [
    "def unique_words(words):\n",
    "    unique_set = set(words)\n",
    "    ordered_list = sorted(list(unique_set), key=str.lower)\n",
    "    print(ordered_list)\n",
    "words = []\n",
    "word = input('Please enter a list of words separated by a space: ')\n",
    "words += word.split()\n",
    "unique_words(words)"
   ]
  },
  {
   "cell_type": "markdown",
   "metadata": {},
   "source": [
    "### Problem 4\n",
    "Write a Python code fragment in the code cell below that defines a function named `calc_qual_pts` that accepts a letter grade (a string) as a parameter and returns the GPA quality points, as specified below, <u>using a dictionary to map each letter grade to its associated quality points</u>. If the grade is not one of the standard letter grades (A, B, C, D, F), return -1 to indicate this. Test the function with grades of \"A\", \"C\", and \"X\". (__7 pts.__)\n",
    "\n",
    "| Grade | Quality Points |\n",
    "| ----- | -------------- |\n",
    "| A     | 4.0            |\n",
    "| B     | 3.0            |\n",
    "| C     | 2.0            |\n",
    "| D     | 1.0            |\n",
    "| F     | 0.0            |\n",
    "| Otherwise | -1         |"
   ]
  },
  {
   "cell_type": "code",
   "execution_count": 12,
   "metadata": {},
   "outputs": [
    {
     "name": "stdout",
     "output_type": "stream",
     "text": [
      "4.0\n",
      "2.0\n",
      "-1\n"
     ]
    }
   ],
   "source": [
    "def calc_qual_pts(grade):\n",
    "    grade = grade.upper()\n",
    "    grade_map = {'A':4.0, 'B':3.0, 'C':2.0, 'D':1.0, 'F':0.0}\n",
    "    for letter,number in grade_map.items():\n",
    "        if grade == letter:\n",
    "            print(number)\n",
    "            break\n",
    "    if grade not in grade_map.keys():\n",
    "        print('-1')\n",
    "\n",
    "in_list = ['a','c','x']\n",
    "for item in in_list:\n",
    "    calc_qual_pts(item)"
   ]
  },
  {
   "cell_type": "markdown",
   "metadata": {},
   "source": [
    "### Problem 5\n",
    "Write a Python code fragment in the code cell below that implements a function named `merge_to_dict` that will accept two parallel lists as parameters, the `key_list` and the `value_list`, and will return a dictionary of the associated key-value pairs. Write your own loop to accomplish this (don't just call `zip`!). You may assume that the lists are the same length. Test with a list of 3 names as keys and a list of 3 scores as the values. (__5 pts.__)"
   ]
  },
  {
   "cell_type": "code",
   "execution_count": 3,
   "metadata": {},
   "outputs": [
    {
     "name": "stdout",
     "output_type": "stream",
     "text": [
      "{'George': 65, 'Tim': 82, 'Phil': 73}\n"
     ]
    }
   ],
   "source": [
    "def merge_to_dict(key_list,value_list):\n",
    "    merged = {}\n",
    "    for key in key_list:\n",
    "        for value in value_list:\n",
    "            merged[key] = value\n",
    "            value_list.remove(value)\n",
    "            break\n",
    "    print(merged)\n",
    "            \n",
    "key_list = ['George', 'Tim', 'Phil']\n",
    "value_list = [65,82,73]\n",
    "merge_to_dict(key_list,value_list)"
   ]
  },
  {
   "cell_type": "markdown",
   "metadata": {},
   "source": [
    "### Problem 6\n",
    "Use _arange_ to create a 2-by-2 _ndarray_ containing the numbers 0–3. Use broadcasting to perform each of the following operations on the original array creating a new _ndarray_ and printing its contents: (__2 pts. each__)\n",
    "1. Cube every element of the array.\n",
    "1. Add 7 to every element of the array.\n",
    "1. Multiply every element of the array by 2."
   ]
  },
  {
   "cell_type": "code",
   "execution_count": 11,
   "metadata": {},
   "outputs": [
    {
     "name": "stdout",
     "output_type": "stream",
     "text": [
      "Original: \n",
      " [[0 1]\n",
      " [2 3]]\n",
      "Answer 1:\n",
      " [[ 0  1]\n",
      " [ 8 27]]\n",
      "Answer 2:\n",
      " [[ 7  8]\n",
      " [ 9 10]]\n",
      "Answer 3:\n",
      " [[0 2]\n",
      " [4 6]]\n"
     ]
    }
   ],
   "source": [
    "import numpy as np\n",
    "\n",
    "array1 = np.arange(4).reshape(2,2)\n",
    "print('Original: \\n',array1)\n",
    "\n",
    "array2 = array1 ** 3\n",
    "print('Answer 1:\\n',array2)\n",
    "\n",
    "array3 = array1 + 7\n",
    "print('Answer 2:\\n',array3)\n",
    "\n",
    "array4 = array1 * 2\n",
    "print('Answer 3:\\n',array4)"
   ]
  },
  {
   "cell_type": "markdown",
   "metadata": {},
   "source": [
    "### Problem 7 - Extra Credit\n",
    "Use a regular expression to search through an input string (converted to all lower case letters when input) to locate all valid URLs within it. For this exercise, assume that a valid URL has the form:<br />\n",
    "<span>http://</span>www.<i>domainname</i>.<i>extension</i><br />\n",
    "where _domainname_ must consist of 1 or more word characters and _extension_ must be two or more letters. Use the regular expression function __findall__ to find all the URL substrings. (__5 pts. Extra Credit__)"
   ]
  },
  {
   "cell_type": "code",
   "execution_count": null,
   "metadata": {},
   "outputs": [],
   "source": []
  }
 ],
 "metadata": {
  "kernelspec": {
   "display_name": "Python 3",
   "language": "python",
   "name": "python3"
  },
  "language_info": {
   "codemirror_mode": {
    "name": "ipython",
    "version": 3
   },
   "file_extension": ".py",
   "mimetype": "text/x-python",
   "name": "python",
   "nbconvert_exporter": "python",
   "pygments_lexer": "ipython3",
   "version": "3.8.5"
  }
 },
 "nbformat": 4,
 "nbformat_minor": 4
}
