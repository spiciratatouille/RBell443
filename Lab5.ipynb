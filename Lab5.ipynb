{
 "cells": [
  {
   "cell_type": "markdown",
   "source": [
    "# CIS 443-75 - Analytics Programming\r\n",
    "## Lab 5\r\n",
    "__Grading ID__: P5279 (double click the cell in Jupyter to edit, find ID in Blackboard Gradebook)<br>\r\n",
    "__Due__: Sunday, February 28 (by 11:59 PM)<br />\r\n",
    "__Worth__: 25 pts."
   ],
   "metadata": {}
  },
  {
   "cell_type": "markdown",
   "source": [
    "### Directions\n",
    "Exercise 5.11, p. 202 (Summarizing Letters in a String) Write a function `summarize_letters` that receives a string and returns a list of tuples containing the unique letters and their frequencies in the string. Test your function and display each letter with its frequency. Your function should ignore case sensitivity (that is, 'a' and 'A' are the same) and ignore spaces and punctuation. When done, write a statement that says whether the string has all the letters of the alphabet."
   ],
   "metadata": {}
  },
  {
   "cell_type": "code",
   "execution_count": 2,
   "source": [
    "def summarize_letters(user_string):\r\n",
    "    \r\n",
    "    #create character and alphabet list\r\n",
    "    characters = []\r\n",
    "    alphabet = ['A','B','C','D','E','F','G','H','I','J','K','L','M','N','O','P','Q','R','S','T','U','V','W','X','Y','Z']\r\n",
    "    \r\n",
    "    #convert user string to uppercase and adds them to list\r\n",
    "    for char in user_string.upper():\r\n",
    "        if(char in alphabet):\r\n",
    "            characters += char\r\n",
    "    \r\n",
    "    #check if all letters of the alphabet are in the list        \r\n",
    "    for char in alphabet:\r\n",
    "        if char in characters:\r\n",
    "            flag = True\r\n",
    "        else:\r\n",
    "            flag = False\r\n",
    "    \r\n",
    "    #prints whether or not the string contains all letters of the alphabet\r\n",
    "    if flag == True:\r\n",
    "        print('This string contains all letters of the alphabet.')\r\n",
    "    else:\r\n",
    "        print('This string does not contain all letters of the alphabet.')\r\n",
    "    \r\n",
    "    #prints alphabet and the frequency of each letter within the string\r\n",
    "    for i in alphabet:\r\n",
    "        print(f'{i}:{characters.count(i):2}')\r\n",
    "\r\n",
    "#calls the function and obtains user inputted string        \r\n",
    "summarize_letters(input('Please enter a string to receive a list of characters: '))"
   ],
   "outputs": [
    {
     "output_type": "stream",
     "name": "stdout",
     "text": [
      "Please enter a string to receive a list of characters: the quick brown fox jumps over the lazy dog\n",
      "This string contains all letters of the alphabet.\n",
      "A: 1\n",
      "B: 1\n",
      "C: 1\n",
      "D: 1\n",
      "E: 3\n",
      "F: 1\n",
      "G: 1\n",
      "H: 2\n",
      "I: 1\n",
      "J: 1\n",
      "K: 1\n",
      "L: 1\n",
      "M: 1\n",
      "N: 1\n",
      "O: 4\n",
      "P: 1\n",
      "Q: 1\n",
      "R: 2\n",
      "S: 1\n",
      "T: 2\n",
      "U: 2\n",
      "V: 1\n",
      "W: 1\n",
      "X: 1\n",
      "Y: 1\n",
      "Z: 1\n"
     ]
    }
   ],
   "metadata": {}
  },
  {
   "cell_type": "markdown",
   "source": [
    "Be sure to save and exit your Jupyter Notebook and Shutdown Jupyter Lab (from the __File__ menu) before you submit your notebook on Blackboard for grading. Make sure you don't submit the empty starting notebook by accident."
   ],
   "metadata": {}
  }
 ],
 "metadata": {
  "kernelspec": {
   "display_name": "Python 3",
   "language": "python",
   "name": "python3"
  },
  "language_info": {
   "codemirror_mode": {
    "name": "ipython",
    "version": 3
   },
   "file_extension": ".py",
   "mimetype": "text/x-python",
   "name": "python",
   "nbconvert_exporter": "python",
   "pygments_lexer": "ipython3",
   "version": "3.8.5"
  }
 },
 "nbformat": 4,
 "nbformat_minor": 4
}