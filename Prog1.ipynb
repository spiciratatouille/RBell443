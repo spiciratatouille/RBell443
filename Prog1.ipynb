{
 "cells": [
  {
   "cell_type": "markdown",
   "metadata": {},
   "source": [
    "# CIS 443-01 - Analytics Programming\n",
    "## Program 1\n",
    "__Grading ID__: P5279(double click the cell in Jupyter to edit)<br>\n",
    "__Due__: Monday, February 8 (by 11:59 PM)<br />\n",
    "__Worth__: 50 pts.<br />\n",
    "__Purpose__: Use repetition control structure and accumulator pattern to estimate value of π."
   ]
  },
  {
   "cell_type": "markdown",
   "metadata": {},
   "source": [
    "### Directions\n",
    "In the code cell below, write Python code to accomplish the following using what you've learned through Chapter 3. Complete Exercise 3.14 from p. 114.\n",
    "\n",
    "Write your solution to allow the user to enter a value for the number of terms that they want the code to run for in the approximation calculation. Output the estimate after each term is added in a tabular format, using f-strings, field width, and right-alignment. Print the term number in a field with width of 8 and the estimate of π in a field with width of 10 and 6 digits after the decimal. (45 pts.)\n",
    "\n",
    "Use your code to answer the questions cells below. (5 pts.)\n",
    "\n",
    "I suggest that you develop your solution in steps. You must alternate between subtraction and addition on each term (or, use addition with a coefficient that alternates from -1 to +1 on each term), so you might start with that. The denominator is going up by 2s each term, so 3, 5, 7, etc., so maybe get that working next. Once you have all the pieces working, then you put it together in a summation (that starts from 4 instead of 0 for this series).\n",
    "\n",
    "If you prefer, you may submit a Python script instead (_Prog1.py_) of a notebook but remember to answer the questions below by including them in comments at end of script if you choose this route.\n",
    "\n",
    "If you wish to incorporate a little of Chapter 4, put the code for the estimation in a method named _pi_estimator_ that accepts number of terms as a parameter.\n",
    "\n",
    "__Note__: To answer the questions below about how many terms are needed to reach a specific approximation, you will probably want to use a while loop to continue the calculation term by term until the specified approximation is reached. You'll either want to truncate the estimate or round the estimate when deciding if it matches the specified approximation."
   ]
  },
  {
   "cell_type": "code",
   "execution_count": 1,
   "metadata": {},
   "outputs": [
    {
     "name": "stdin",
     "output_type": "stream",
     "text": [
      "How many terms would you like to run?  1\n"
     ]
    },
    {
     "name": "stdout",
     "output_type": "stream",
     "text": [
      "       1  4.000000\n"
     ]
    }
   ],
   "source": [
    "#user inputs the number of terms to run through estimator\n",
    "terms = int(input(\"How many terms would you like to run? \"))\n",
    "\n",
    "#calculates the estimation based on number of user-inputted terms\n",
    "def pi_estimator(terms):\n",
    "    calc = 0.0\n",
    "    numer = 1.0\n",
    "    denom = 1.0\n",
    "    for n in range(1, terms+1):\n",
    "        calc += numer / denom\n",
    "        numer = -numer\n",
    "        denom += 2\n",
    "    return calc\n",
    "\n",
    "#print term and corresponding estimation\n",
    "for n in range(1, terms+1):\n",
    "    print(f'{n:>8}{pi_estimator(n) * 4:>10.6f}')"
   ]
  },
  {
   "cell_type": "markdown",
   "metadata": {},
   "source": [
    "How many terms of this series do you have to use before you first get 3.14?<br />\n",
    "121 terms, if truncated<br />\n",
    "3.141?<br />\n",
    "1686 terms<br />\n",
    "3.1415?<br />\n",
    "10,736 terms<br />\n",
    "3.14159?<br />\n",
    "130,658 terms<br />\n",
    "Double click the cell in Jupyter to edit (5 pts.)"
   ]
  },
  {
   "cell_type": "markdown",
   "metadata": {},
   "source": [
    "Be sure to save and exit your Jupyter Notebook and Shutdown Jupyter Lab (from the __File__ menu) before you submit your notebook on Blackboard for grading."
   ]
  }
 ],
 "metadata": {
  "kernelspec": {
   "display_name": "Python 3",
   "language": "python",
   "name": "python3"
  },
  "language_info": {
   "codemirror_mode": {
    "name": "ipython",
    "version": 3
   },
   "file_extension": ".py",
   "mimetype": "text/x-python",
   "name": "python",
   "nbconvert_exporter": "python",
   "pygments_lexer": "ipython3",
   "version": "3.8.5"
  }
 },
 "nbformat": 4,
 "nbformat_minor": 4
}
