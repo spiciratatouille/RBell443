{
 "cells": [
  {
   "cell_type": "markdown",
   "metadata": {},
   "source": [
    "# CIS 443-75 - Analytics Programming\n",
    "## Lab 7\n",
    "__Grading ID__: P5279 (double click the cell in Jupyter to edit, find ID in Blackboard Gradebook)<br>\n",
    "__Due__: Sunday, March 21 (by 11:59 PM)<br />\n",
    "__Worth__: 25 pts."
   ]
  },
  {
   "cell_type": "markdown",
   "metadata": {},
   "source": [
    "### Directions\n",
    "Exercise 8.9, p. 314 (Creating Three-Letter Strings from a Five-Letter Word) Write a script that reads a five-letter word from the user and produces every possible three-letter string, based on the word’s letters. For example, the three-letter words produced from the word “bathe” include “ate,” “bat,” “bet,” “tab,” “hat,” “the” and “tea.”<br/>\n",
    "__Hint__: Use nested loops for this solution but make sure each letter is used only once in the three-letter strings (unless the input word repeats letters). Your solution should ignore case and display only the unique words.<br/>\n",
    "_Challenge_: Investigate the functions from the __itertools__ module, then use an appropriate function to automate this task and compare your results to the code you wrote using nested loops (which is required and the only part being graded."
   ]
  },
  {
   "cell_type": "code",
   "execution_count": 1,
   "metadata": {},
   "outputs": [
    {
     "name": "stdout",
     "output_type": "stream",
     "text": [
      "Please enter a 5 letter word: green\n",
      "['GRE',\n",
      " 'GRE',\n",
      " 'GRN',\n",
      " 'GER',\n",
      " 'GEN',\n",
      " 'GER',\n",
      " 'GEN',\n",
      " 'GNR',\n",
      " 'GNE',\n",
      " 'GNE',\n",
      " 'RGE',\n",
      " 'RGE',\n",
      " 'RGN',\n",
      " 'REG',\n",
      " 'REN',\n",
      " 'REG',\n",
      " 'REN',\n",
      " 'RNG',\n",
      " 'RNE',\n",
      " 'RNE',\n",
      " 'EGR',\n",
      " 'EGN',\n",
      " 'ERG',\n",
      " 'ERN',\n",
      " 'ENG',\n",
      " 'ENR',\n",
      " 'EGR',\n",
      " 'EGN',\n",
      " 'ERG',\n",
      " 'ERN',\n",
      " 'ENG',\n",
      " 'ENR',\n",
      " 'NGR',\n",
      " 'NGE',\n",
      " 'NGE',\n",
      " 'NRG',\n",
      " 'NRE',\n",
      " 'NRE',\n",
      " 'NEG',\n",
      " 'NER',\n",
      " 'NEG',\n",
      " 'NER']\n"
     ]
    }
   ],
   "source": [
    "#import numpy and pprint to print results in a better format\n",
    "import numpy as np\n",
    "from pprint import pprint\n",
    "#function that does the work\n",
    "def word_finder(string):\n",
    "    #create iterable array and list for letters and resulting 3 letter strings\n",
    "    letters = np.array([])\n",
    "    result = []\n",
    "    #convert input string to uppercase and add to letters array\n",
    "    for char in string.upper():\n",
    "        if char.isalpha():\n",
    "            letters = np.append(letters, char)\n",
    "    #walk through the letters and make 3 letter strings        \n",
    "    for i in letters:\n",
    "        for j in letters:\n",
    "            if j == i:\n",
    "                j = np.nditer(letters)\n",
    "                continue\n",
    "            for k in letters:\n",
    "                if k == i or k == j:\n",
    "                    k = np.nditer(letters)\n",
    "                    continue\n",
    "                else:\n",
    "                    result.append(i + j + k)\n",
    "    #print results\n",
    "    pprint(result)\n",
    "#start program and obtain input string\n",
    "string = input('Please enter a 5 letter word: ')\n",
    "word_finder(string)"
   ]
  },
  {
   "cell_type": "markdown",
   "metadata": {},
   "source": [
    "Be sure to save and exit your Jupyter Notebook and Shutdown Jupyter Lab (from the __File__ menu) before you submit your notebook on Blackboard for grading. Make sure you don't submit the empty starting notebook by accident."
   ]
  }
 ],
 "metadata": {
  "kernelspec": {
   "display_name": "Python 3",
   "language": "python",
   "name": "python3"
  },
  "language_info": {
   "codemirror_mode": {
    "name": "ipython",
    "version": 3
   },
   "file_extension": ".py",
   "mimetype": "text/x-python",
   "name": "python",
   "nbconvert_exporter": "python",
   "pygments_lexer": "ipython3",
   "version": "3.8.5"
  }
 },
 "nbformat": 4,
 "nbformat_minor": 4
}
