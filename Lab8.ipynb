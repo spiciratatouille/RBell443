{
 "cells": [
  {
   "cell_type": "markdown",
   "metadata": {},
   "source": [
    "# CIS 443-75 - Analytics Programming\n",
    "## Lab 8\n",
    "__Grading ID__: P5279(double click the cell in Jupyter to edit)<br>\n",
    "__Due__: Sunday, April 4 (by 11:59 PM)<br />\n",
    "__Worth__: 25 pts."
   ]
  },
  {
   "cell_type": "markdown",
   "metadata": {},
   "source": [
    "### Directions\n",
    "In the code cell below, write Python code to complete __Exercise 9.3__, p. 349 (Class Average: Writing Student Records to a CSV File)\n",
    "<p>An instructor teaches a class in which each student takes three exams. The instructor would like to store this information in a file named grades.csv for later use. Write code that enables an instructor to enter each student&rsquo;s first name and last name as strings and the student&rsquo;s three exam grades as integers. Use the <strong>csv</strong> module to write each record into the <em>grades.csv</em> file. Each record should be a single line of text in the following CSV format:</p>\n",
    "<p><em>firstname,lastname,exam1grade,exam2grade,exam3grade</em></p>\n",
    "Test your source code and save your work before submission. (12.5 pts.)"
   ]
  },
  {
   "cell_type": "code",
   "execution_count": 5,
   "metadata": {},
   "outputs": [
    {
     "name": "stdout",
     "output_type": "stream",
     "text": [
      "Please enter the number of students: 2\n",
      "Please enter first name of student 1: joe\n",
      "Please enter last name of student 1: b\n",
      "Exam 1 grade of student 1:99\n",
      "Exam 2 grade of student 1:99\n",
      "Exam 3 grade of student 1:99\n",
      "Please enter first name of student 2: jim\n",
      "Please enter last name of student 2: c\n",
      "Exam 1 grade of student 2:88\n",
      "Exam 2 grade of student 2:88\n",
      "Exam 3 grade of student 2:88\n"
     ]
    }
   ],
   "source": [
    "import csv\n",
    "\n",
    "num = int(input('Please enter the number of students: '))\n",
    "records = [['First Name','Last Name','Exam 1 Grade','Exam 2 Grade','Exam 3 Grade']]\n",
    "\n",
    "for i in range(num):\n",
    "    firstname = input(f'Please enter first name of student {i+1}: ')\n",
    "    lastname = input(f'Please enter last name of student {i+1}: ')\n",
    "    exam1grade = int(input(f'Exam 1 grade of student {i+1}:'))\n",
    "    exam2grade = int(input(f'Exam 2 grade of student {i+1}:'))\n",
    "    exam3grade = int(input(f'Exam 3 grade of student {i+1}:'))\n",
    "    average = (exam1grade + exam2grade + exam3grade)/3\n",
    "    \n",
    "    records.append([firstname,lastname,exam1grade,exam2grade,exam3grade,average])\n",
    "    \n",
    "with open(\"grades.csv\",\"w\")as grades:\n",
    "    file = csv.writer(grades)\n",
    "    for i in records:\n",
    "        file.writerow(i)"
   ]
  },
  {
   "cell_type": "markdown",
   "metadata": {},
   "source": [
    "In the code cell below, write Python code to complete __Exercises 9.4 and 9.5__, p. 349-350 (Creating a Grade Report from a CSV File)\n",
    "<p>Use the <strong>csv</strong> module to read the <em>grades.csv</em> file from the previous exercise. Create a grade report that displays each student&rsquo;s average to the right of that student&rsquo;s row and the class average for each exam below that exam&rsquo;s column.</p>\n",
    "Test your source code and save your work before submission. (12.5 pts.)"
   ]
  },
  {
   "cell_type": "code",
   "execution_count": 6,
   "metadata": {},
   "outputs": [
    {
     "name": "stdout",
     "output_type": "stream",
     "text": [
      "[]\n",
      "['joe', 'b', '99', '99', '99', '99.0']\n",
      "[]\n",
      "['jim', 'c', '88', '88', '88', '88.0']\n",
      "[]\n"
     ]
    }
   ],
   "source": [
    "import csv\n",
    "\n",
    "with open(\"grades.csv\",\"r\")as grades:\n",
    "    file = csv.reader(grades)\n",
    "    header = next(file)\n",
    "    for i in file:\n",
    "        \n",
    "        print(i)"
   ]
  },
  {
   "cell_type": "markdown",
   "metadata": {},
   "source": [
    "Be sure to save and exit your Jupyter Notebook and Shutdown Jupyter Lab (from the __File__ menu) before you submit your notebook on Blackboard for grading."
   ]
  }
 ],
 "metadata": {
  "kernelspec": {
   "display_name": "Python 3",
   "language": "python",
   "name": "python3"
  },
  "language_info": {
   "codemirror_mode": {
    "name": "ipython",
    "version": 3
   },
   "file_extension": ".py",
   "mimetype": "text/x-python",
   "name": "python",
   "nbconvert_exporter": "python",
   "pygments_lexer": "ipython3",
   "version": "3.8.5"
  }
 },
 "nbformat": 4,
 "nbformat_minor": 4
}
