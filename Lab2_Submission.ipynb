{
 "cells": [
  {
   "cell_type": "markdown",
   "metadata": {},
   "source": [
    "# CIS 443-01 - Analytics Programming\n",
    "## Lab 2\n",
    "__Grading ID__: P5279 (double click the cell in Jupyter to edit, find ID in Blackboard Gradebook)<br>\n",
    "__Due__: Sunday, January 31 (by 11:59 PM)<br />\n",
    "__Worth__: 25 pts."
   ]
  },
  {
   "cell_type": "markdown",
   "metadata": {},
   "source": [
    "### Directions\n",
    "Exercise 3.11, p. 113 (Miles Per Gallon) Drivers are concerned with the mileage obtained by their automobiles. One driver has kept track of several tankfuls of gasoline by recording miles driven and gallons used for each tankful. Develop a sentinel-controlled-repetition script that prompts the user to input the miles driven and gallons used for each tankful. The script should calculate and display the miles per gallon obtained for each tankful. After processing all input information, the script should calculate and display the combined miles per gallon obtained for all tankfuls (that is, total miles driven divided by total gallons used). Sample output appears below. (25 pts.)<br>\n",
    "<div class=\"alert alert-block alert-info\">\n",
    "Enter the gallons used (-1 to end): 12.8<br>\n",
    "Enter the miles driven: 287<br>\n",
    "The miles/gallon for this tank was 22.421875<br>\n",
    "Enter the gallons used (-1 to end): 10.3<br>\n",
    "Enter the miles driven: 200<br>\n",
    "The miles/gallon for this tank was 19.417475<br>\n",
    "Enter the gallons used (-1 to end): 5<br>\n",
    "Enter the miles driven: 120<br>\n",
    "The miles/gallon for this tank was 24.000000<br>\n",
    "Enter the gallons used (-1 to end): -1<br>\n",
    "The overall average miles/gallon was 21.601423\n",
    "</div>"
   ]
  },
  {
   "cell_type": "markdown",
   "metadata": {},
   "source": [
    "Be sure to save and exit your Jupyter Notebook and Shutdown Jupyter Lab (from the __File__ menu) before you submit your notebook on Blackboard for grading. Make sure you don't submit the empty starting notebook by accident."
   ]
  },
  {
   "cell_type": "code",
   "execution_count": 6,
   "metadata": {},
   "outputs": [
    {
     "name": "stdin",
     "output_type": "stream",
     "text": [
      "Enter the number of gallons used, (-1 to end): 12.8\n",
      "Enter the number of miles driven:  287\n"
     ]
    },
    {
     "name": "stdout",
     "output_type": "stream",
     "text": [
      "The miles/gallon for this tank was: 22.421875\n"
     ]
    },
    {
     "name": "stdin",
     "output_type": "stream",
     "text": [
      "Enter the number of gallons used, (-1 to end):  10.3\n",
      "Enter the number of miles driven:  200\n"
     ]
    },
    {
     "name": "stdout",
     "output_type": "stream",
     "text": [
      "The miles/gallon for this tank was: 19.41747572815534\n"
     ]
    },
    {
     "name": "stdin",
     "output_type": "stream",
     "text": [
      "Enter the number of gallons used, (-1 to end):  5\n",
      "Enter the number of miles driven:  120\n"
     ]
    },
    {
     "name": "stdout",
     "output_type": "stream",
     "text": [
      "The miles/gallon for this tank was: 24.0\n"
     ]
    },
    {
     "name": "stdin",
     "output_type": "stream",
     "text": [
      "Enter the number of gallons used, (-1 to end):  -1\n"
     ]
    },
    {
     "name": "stdout",
     "output_type": "stream",
     "text": [
      "The overall average miles/gallon was: 21.601423487544483\n"
     ]
    }
   ],
   "source": [
    "total_gal = 0 # sum of gallons\n",
    "total_mile = 0 # sum of miles\n",
    "\n",
    "# user inputs gallons used, initializing the loop\n",
    "gallons = float(input('Enter the number of gallons used, (-1 to end):'))\n",
    "\n",
    "# loop continues until user enters sentinel value to terminate the loop\n",
    "while gallons != -1:\n",
    "    total_gal += gallons\n",
    "    miles = float(input('Enter the number of miles driven: '))\n",
    "    total_mile += miles\n",
    "    average = miles / gallons\n",
    "    print(f'The miles/gallon for this tank was: {average}')\n",
    "    gallons = float(input('Enter the number of gallons used, (-1 to end): '))\n",
    "\n",
    "# once user enters the sentinel value, the loop is terminated and the total average is printed    \n",
    "if gallons == -1:\n",
    "    total_average = total_mile / total_gal\n",
    "    print(f'The overall average miles/gallon was: {total_average}')\n",
    "\n",
    "    "
   ]
  },
  {
   "cell_type": "code",
   "execution_count": null,
   "metadata": {},
   "outputs": [],
   "source": []
  }
 ],
 "metadata": {
  "kernelspec": {
   "display_name": "Python 3",
   "language": "python",
   "name": "python3"
  },
  "language_info": {
   "codemirror_mode": {
    "name": "ipython",
    "version": 3
   },
   "file_extension": ".py",
   "mimetype": "text/x-python",
   "name": "python",
   "nbconvert_exporter": "python",
   "pygments_lexer": "ipython3",
   "version": "3.8.5"
  }
 },
 "nbformat": 4,
 "nbformat_minor": 4
}
