{
 "cells": [
  {
   "cell_type": "markdown",
   "metadata": {},
   "source": [
    "# CIS 443 Exam 2, Part 3 Notebook\n",
    "## 15 pts. + 2 pts. Extra Credit\n",
    "## Directions\n",
    "1. Add your Grading ID below.\n",
    "1. Answer the question in the cell provided.\n",
    "1. When finished, save your work, close the Jupyter Lab file, and Shut Down Jupyter Lab. You will upload this Jupyter Notebook file as your submission for Exam 2, Part 3 in Blackboard.\n",
    "1. Be sure to keep an unaltered version of this file just in case anything goes wrong in Blackboard.\n",
    "\n",
    "__Grading ID__: ADD HERE (double click the cell in Jupyter to edit)"
   ]
  },
  {
   "cell_type": "markdown",
   "metadata": {},
   "source": [
    "Standard telephone keypads contain the digits zero through nine. The numbers two through nine each have 3-4 letters associated with them, as shown in the following table:\n",
    "\n",
    "|Digit|Letters|\n",
    "|-----|-------|\n",
    "|2|ABC|\n",
    "|3|DEF|\n",
    "|4|GHI|\n",
    "|5|JKL|\n",
    "|6|MNO|\n",
    "|7|PQRS|\n",
    "|8|TUV|\n",
    "|9|WXYZ|\n",
    "\n",
    "Many people find it difficult to memorize phone numbers, so they use the correspondence between digits and letters to develop seven-letter words (or phrases) that correspond to their phone numbers. Every seven-letter word or phrase corresponds to exactly one seven-digit telephone number. A budding data science entrepreneur might like to reserve the phone number 244-3282 (“BIGDATA”), for example.\n",
    "\n",
    "Write a Python code fragment in the code cell below that inputs a seven-letter string (such as _BIGDATA_) and outputs the corresponding phone number that is associated with it. You may assume the that the input will consist of exactly seven alphabet letters but the case of the letters should not matter. (__15 pts.__)\n",
    "\n",
    "__Extra Credit__<br />\n",
    "For an extra 2 points, validate the input using a regular expression to ensure that it only consists of seven alphabet letters. Display an error message if it does not. (__2 pts. Extra Credit__)"
   ]
  },
  {
   "cell_type": "code",
   "execution_count": 12,
   "metadata": {},
   "outputs": [
    {
     "name": "stdout",
     "output_type": "stream",
     "text": [
      "Please enter a 7 letter string: littledata\n",
      "Error! Please enter a valid string.\n"
     ]
    }
   ],
   "source": [
    "#Grading ID: P5279\n",
    "import re\n",
    "\n",
    "#storing letters and numbers in dictionary\n",
    "keypad = {2:'ABC', 3:'DEF', 4:'GHI', 5:'JKL', 6:'MNO',\n",
    "          7:'PQRS', 8:'TUV', 9:'WXYZ'}\n",
    "\n",
    "#getting user string\n",
    "user_string = input('Please enter a 7 letter string: ')\n",
    "\n",
    "#validate string to ensure it contains only 7 letters, upper or lower\n",
    "result = re.match('[a-zA-z]{7}$', user_string)\n",
    "\n",
    "#if string is valid\n",
    "if result:\n",
    "    #empty string to store the number\n",
    "    number = ''\n",
    "    #iterate over each character in the string\n",
    "    for char in user_string:\n",
    "        #iterate over keypad\n",
    "        for digit, letters in keypad.items():\n",
    "            if char.upper() in letters:\n",
    "                number += str(digit)\n",
    "    print(number)\n",
    "\n",
    "#if string is invalid, display error message\n",
    "else:\n",
    "    print('Error! Please enter a valid string.')"
   ]
  }
 ],
 "metadata": {
  "kernelspec": {
   "display_name": "Python 3",
   "language": "python",
   "name": "python3"
  },
  "language_info": {
   "codemirror_mode": {
    "name": "ipython",
    "version": 3
   },
   "file_extension": ".py",
   "mimetype": "text/x-python",
   "name": "python",
   "nbconvert_exporter": "python",
   "pygments_lexer": "ipython3",
   "version": "3.8.5"
  }
 },
 "nbformat": 4,
 "nbformat_minor": 4
}
